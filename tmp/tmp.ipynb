{
 "cells": [
  {
   "cell_type": "code",
   "execution_count": 46,
   "metadata": {},
   "outputs": [
    {
     "name": "stderr",
     "output_type": "stream",
     "text": [
      "INFO: CUDA is available. Using CUDA...\n",
      "INFO: Using device cuda:0\n",
      "INFO: Creating dataset with ['tmp'] \n",
      "INFO: Creating dataset with 1 examples\n",
      "                                                                  \r"
     ]
    }
   ],
   "source": [
    "import cv2\n",
    "from PIL import Image\n",
    "import numpy as np\n",
    "import warnings\n",
    "from torchvision.utils import *\n",
    "\n",
    "warnings.simplefilter(\"ignore\")\n",
    "\n",
    "from optic_disc_segmentation import *\n",
    "from load_lwnet import *\n",
    "from utils.get_loaders import *\n",
    "from algo import *\n",
    "\n",
    "device = \"cuda\" if torch.cuda.is_available() else \"cpu\"\n",
    "model_1, model_2, model_3, model_4, model_5, model_6, model_7, model_8 = load_models()\n",
    "test_loader = get_test_dataset('tmp/')\n",
    "\n",
    "img_ww, mask_disc, mask_cup = prediction_eval(model_1, model_2, model_3, model_4, model_5, model_6, model_7, model_8, test_loader, device)\n",
    "# save_image(segmented_mask, 'tmp.png')\n",
    "# cv2.imwrite('tmp.png', img_ww)\n",
    "\n",
    "# segmented_mask_uint8 = segmented_mask.astype(np.uint8) * 255\n",
    "# cv2.imwrite('tmp.png', segmented_mask_uint8)\n",
    "# mask_cup = cv2.imread('N-16-R-Cup-Avg.png', cv2.IMREAD_GRAYSCALE)\n",
    "# mask_disc = cv2.imread('N-16-R-Disc-Avg.png', cv2.IMREAD_GRAYSCALE)\n",
    "# isnt = ISNT(mask_cup, mask_disc, 'r')\n",
    "# print(isnt)\n",
    "# cv2.circle(mask_cup, (x,y), 0, (0, 255, 255), 3)\n",
    "# cv2.circle(mask_cup, (g,h), 0, (255, 0, 255), 3)\n",
    "\n",
    "# cv2.imwrite('tmp_disc.png', mask_disc)\n",
    "# cv2.imwrite('tmp_cup.png', mask_cup)"
   ]
  },
  {
   "cell_type": "code",
   "execution_count": 31,
   "metadata": {},
   "outputs": [
    {
     "name": "stdout",
     "output_type": "stream",
     "text": [
      "56\n"
     ]
    },
    {
     "data": {
      "text/plain": [
       "True"
      ]
     },
     "execution_count": 31,
     "metadata": {},
     "output_type": "execute_result"
    }
   ],
   "source": [
    "from itertools import product\n",
    "\n",
    "mask_cup_ = mask_cup.copy()\n",
    "vertical_cup_diameters = []\n",
    "vertical_cup_len = 0\n",
    "for i, j in product(range(mask_cup_.shape[0]), range(mask_cup_.shape[1])):    \n",
    "    if j == mask_cup_.shape[1] - 1:\n",
    "        vertical_cup_diameters.append(vertical_cup_len)\n",
    "        vertical_cup_len = 0\n",
    "    elif mask_cup_[j, i] == 255:\n",
    "        vertical_cup_len += 1\n",
    "        # cv2.circle(mask_cup_, (i, j), 0, (150, 0, 0), 1)\n",
    "        \n",
    "vertical_cup_diameter = max(vertical_cup_diameters)\n",
    "print(vertical_cup_diameter)\n",
    "        \n",
    "        # cv2.circle(mask_cup_, (i, j), 0, (255, 150, 255), 1)\n",
    "#         if mask_cup[i, j] != 255:\n",
    "#             mask_cup[i, j] = 0\n",
    "#             cv2.circle(mask_cup, (i, j), 0, (255, 255, 255), 1)\n",
    "        \n",
    "cv2.imwrite('tmp_cup.png', mask_cup_)\n"
   ]
  },
  {
   "cell_type": "code",
   "execution_count": 32,
   "metadata": {},
   "outputs": [
    {
     "name": "stdout",
     "output_type": "stream",
     "text": [
      "48\n"
     ]
    },
    {
     "data": {
      "text/plain": [
       "True"
      ]
     },
     "execution_count": 32,
     "metadata": {},
     "output_type": "execute_result"
    }
   ],
   "source": [
    "from itertools import product\n",
    "\n",
    "mask_cup_ = mask_cup.copy()\n",
    "horizontal_cup_diameters = []\n",
    "horizontal_cup_len = 0\n",
    "for i, j in product(range(mask_cup_.shape[0]), range(mask_cup_.shape[1])):\n",
    "    if j == mask_cup_.shape[1] - 1:\n",
    "        horizontal_cup_diameters.append(horizontal_cup_len)\n",
    "        horizontal_cup_len = 0\n",
    "    elif mask_cup_[i, j] == 255:\n",
    "        horizontal_cup_len += 1\n",
    "\n",
    "horizontal_cup_diameter = max(horizontal_cup_diameters)\n",
    "print(horizontal_cup_diameter)\n",
    "\n",
    "cv2.imwrite('tmp_cup.png', mask_cup_)"
   ]
  },
  {
   "cell_type": "code",
   "execution_count": 33,
   "metadata": {},
   "outputs": [
    {
     "name": "stdout",
     "output_type": "stream",
     "text": [
      "(262, 265)\n",
      "264\n"
     ]
    }
   ],
   "source": [
    "x, y = 0, 0\n",
    "for d in range(len(horizontal_cup_diameters)):\n",
    "    if horizontal_cup_diameters[d] == horizontal_cup_diameter:\n",
    "        x = d\n",
    "        break\n",
    "\n",
    "for e in range(x, len(horizontal_cup_diameters)):\n",
    "    if horizontal_cup_diameters[e] != horizontal_cup_diameter:\n",
    "        y = e\n",
    "        break\n",
    "\n",
    "print((x, y))\n",
    "\n",
    "horizontal_cup_diameter_idx = x + round((y - x) / 2)\n",
    "print(horizontal_cup_diameter_idx)"
   ]
  },
  {
   "cell_type": "code",
   "execution_count": null,
   "metadata": {},
   "outputs": [],
   "source": []
  },
  {
   "cell_type": "code",
   "execution_count": 3,
   "metadata": {},
   "outputs": [
    {
     "name": "stdout",
     "output_type": "stream",
     "text": [
      "(381, 390)\n",
      "385\n"
     ]
    }
   ],
   "source": [
    "x, y = 0, 0\n",
    "for d in range(len(vertical_cup_diameters)):\n",
    "    if vertical_cup_diameters[d] == vertical_cup_diameter:\n",
    "        x = d\n",
    "        break\n",
    "\n",
    "for e in range(x, len(vertical_cup_diameters)):\n",
    "    if vertical_cup_diameters[e] != vertical_cup_diameter:\n",
    "        y = e\n",
    "        break\n",
    "\n",
    "print((x, y))\n",
    "\n",
    "vertical_cup_diameter_idx = x + round((y - x) / 2)\n",
    "print(vertical_cup_diameter_idx)"
   ]
  },
  {
   "cell_type": "code",
   "execution_count": 42,
   "metadata": {},
   "outputs": [
    {
     "name": "stdout",
     "output_type": "stream",
     "text": [
      "237\n"
     ]
    },
    {
     "data": {
      "text/plain": [
       "array([  0., 150., 255.])"
      ]
     },
     "execution_count": 42,
     "metadata": {},
     "output_type": "execute_result"
    }
   ],
   "source": [
    "mask_cup_ = mask_cup.copy()\n",
    "cup_bound_s = 0\n",
    "# for i, j in product(range(mask_cup.shape[0]), range(mask_cup.shape[1])):  \n",
    "#     if mask_cup_[j, i] != 255:\n",
    "#         mask_cup_[j, i] = 150 \n",
    "for i in range(mask_cup_.shape[0]):\n",
    "    if mask_cup_[i, vertical_cup_diameter_idx] == 0:\n",
    "        mask_cup_[i, vertical_cup_diameter_idx] = 150\n",
    "        cup_bound_s += 1\n",
    "    elif mask_cup_[i, vertical_cup_diameter_idx] == 255:\n",
    "        break\n",
    "#     if mask_cup_[vertical_cup_diameter_idx][i] == 255:\n",
    "#         # print(i)\n",
    "#     #     cup_bound_s += 1\n",
    "#         cv2.circle(mask_cup_, (vertical_cup_diameter_idx, i), 0, (150, 255, 255), -1)\n",
    "    # elif mask_cup_[vertical_cup_diameter_idx][i] == 255:\n",
    "    #     break\n",
    "\n",
    "cv2.imwrite('tmp_cup.png', mask_cup_)\n",
    "print(cup_bound_s)\n",
    "np.unique(mask_cup_)"
   ]
  },
  {
   "cell_type": "code",
   "execution_count": 40,
   "metadata": {},
   "outputs": [
    {
     "data": {
      "text/plain": [
       "True"
      ]
     },
     "execution_count": 40,
     "metadata": {},
     "output_type": "execute_result"
    }
   ],
   "source": [
    "mask_cup_ = mask_cup.copy()\n",
    "\n",
    "for i in reversed(range(mask_cup_.shape[0])):\n",
    "    if mask_cup_[i, vertical_cup_diameter_idx] == 0:\n",
    "        mask_cup_[i, vertical_cup_diameter_idx] = 150\n",
    "        cup_bound_s += 1\n",
    "    elif mask_cup_[i, vertical_cup_diameter_idx] == 255:\n",
    "        break\n",
    "\n",
    "cv2.imwrite('tmp_cup.png', mask_cup_)"
   ]
  },
  {
   "cell_type": "code",
   "execution_count": null,
   "metadata": {},
   "outputs": [],
   "source": []
  },
  {
   "cell_type": "code",
   "execution_count": 41,
   "metadata": {},
   "outputs": [
    {
     "data": {
      "text/plain": [
       "True"
      ]
     },
     "execution_count": 41,
     "metadata": {},
     "output_type": "execute_result"
    }
   ],
   "source": [
    "mask_cup_ = mask_cup.copy()\n",
    "\n",
    "for j in reversed(range(mask_cup_.shape[1])):\n",
    "    if mask_cup_[horizontal_cup_diameter_idx, j] == 0:\n",
    "        mask_cup_[horizontal_cup_diameter_idx, j] = 150\n",
    "        cup_bound_s += 1\n",
    "    elif mask_cup_[horizontal_cup_diameter_idx, j] == 255:\n",
    "        break\n",
    "\n",
    "cv2.imwrite('tmp_cup.png', mask_cup_)"
   ]
  },
  {
   "cell_type": "code",
   "execution_count": 47,
   "metadata": {},
   "outputs": [
    {
     "name": "stdout",
     "output_type": "stream",
     "text": [
      "101 363\n",
      "219 237\n"
     ]
    }
   ],
   "source": [
    "import numpy as np\n",
    "import pandas as pd\n",
    "def ISNT(mask_cup: np.ndarray, mask_disc: np.ndarray, eye: str):\n",
    "    # ====== Measure vertical and horizontal diameters of the cup and disc ===== #\n",
    "    horizontal_cup_diameters = []\n",
    "    horizontal_cup_len = 0\n",
    "    vertical_cup_diameters = []\n",
    "    vertical_cup_len = 0\n",
    "    for i, j in product(range(mask_cup.shape[0]), range(mask_cup.shape[1])):\n",
    "        if j == mask_cup.shape[1] - 1:\n",
    "            horizontal_cup_diameters.append(horizontal_cup_len)\n",
    "            horizontal_cup_len = 0\n",
    "            vertical_cup_diameters.append(vertical_cup_len)\n",
    "            vertical_cup_len = 0\n",
    "        elif mask_cup[i, j] == 255:\n",
    "            horizontal_cup_len += 1\n",
    "        elif mask_cup[j, i] == 255:\n",
    "            vertical_cup_len += 1\n",
    "\n",
    "    horizontal_cup_diameter = max(horizontal_cup_diameters)            \n",
    "    vertical_cup_diameter = max(vertical_cup_diameters)\n",
    "    # print(horizontal_cup_diameter, vertical_cup_diameter)\n",
    "\n",
    "    horizontal_disc_diameters = []\n",
    "    horizontal_disc_len = 0\n",
    "    vertical_disc_diameters = []\n",
    "    vertical_disc_len = 0\n",
    "    for i, j in product(range(mask_disc.shape[0]), range(mask_disc.shape[1])):\n",
    "        if j == mask_disc.shape[1] - 1:\n",
    "            horizontal_disc_diameters.append(horizontal_disc_len)\n",
    "            horizontal_disc_len = 0\n",
    "            vertical_disc_diameters.append(vertical_disc_len)\n",
    "            vertical_disc_len = 0\n",
    "        elif mask_disc[i, j] == 255:\n",
    "            horizontal_disc_len += 1\n",
    "        elif mask_disc[j, i] == 255:\n",
    "            vertical_disc_len += 1\n",
    "\n",
    "    horizontal_disc_diameter = max(horizontal_disc_diameters)            \n",
    "    vertical_disc_diameter = max(vertical_disc_diameters)\n",
    "    # print(horizontal_disc_diameter, vertical_disc_diameter)\n",
    "\n",
    "    # ===== Define coordinates of the cup and disc ===== #\n",
    "    chx, dhy = 0, 0\n",
    "    for cx in range(len(horizontal_cup_diameters)):\n",
    "        if horizontal_cup_diameters[cx] == horizontal_cup_diameter:\n",
    "            chx = cx\n",
    "            break\n",
    "    for cy in range(chx, len(horizontal_cup_diameters)):\n",
    "        if horizontal_cup_diameters[cy] != horizontal_cup_diameter:\n",
    "            chy = cy\n",
    "            break\n",
    "    # print(chx, chy)\n",
    "    horizontal_cup_diameter_idx = chx + round((chy - chx) / 2)\n",
    "\n",
    "    dhx, dhy = 0, 0\n",
    "    for dx in range(len(horizontal_disc_diameters)):\n",
    "        if horizontal_disc_diameters[dx] == horizontal_disc_diameter:\n",
    "            dhx = dx\n",
    "            break\n",
    "    for dy in range(dhx, len(horizontal_disc_diameters)):\n",
    "        if horizontal_disc_diameters[dy] != horizontal_disc_diameter:\n",
    "            dhy = dy\n",
    "            break\n",
    "    # print(dhx, dhy)\n",
    "    horizontal_disc_diameter_idx = dhx + round((dhy - chx) / 2)\n",
    "\n",
    "    cvx, cvy = 0, 0\n",
    "    for cx in range(len(vertical_cup_diameters)):\n",
    "        if vertical_cup_diameters[cx] == vertical_cup_diameter:\n",
    "            cvx = cx\n",
    "            break\n",
    "    for cy in range(cvx, len(vertical_cup_diameters)):\n",
    "        if vertical_cup_diameters[cy] != vertical_cup_diameter:\n",
    "            cvy = cy\n",
    "            break\n",
    "    # print(cvx, cvy)\n",
    "    vertical_cup_diameter_idx = cvx + round((cvy - cvx) / 2)\n",
    "\n",
    "    dvx, dvy = 0, 0\n",
    "    for dx in range(len(vertical_disc_diameters)):\n",
    "        if vertical_disc_diameters[dx] == vertical_disc_diameter:\n",
    "            dvx = dx\n",
    "            break\n",
    "    for dy in range(dvx, len(vertical_disc_diameters)):\n",
    "        if vertical_disc_diameters[dy] != vertical_disc_diameter:\n",
    "            dvy = dy\n",
    "            break\n",
    "    # print(dvx, dvy)\n",
    "    vertical_disc_diameter_idx = dvx + round((dvy - dvx) / 2)\n",
    "\n",
    "    # ===== Calculate ISNT ===== #\n",
    "    # ISNT_I\n",
    "    cup_bound_i = 0\n",
    "    for ci in reversed(range(mask_cup.shape[0])):\n",
    "        if mask_cup[ci, vertical_cup_diameter_idx] == 0:\n",
    "            mask_cup[ci, vertical_cup_diameter_idx] = 150\n",
    "            cup_bound_i += 1\n",
    "        elif mask_cup[ci, vertical_cup_diameter_idx] == 255:\n",
    "            break\n",
    "    # print(cup_bound_i)\n",
    "\n",
    "    disc_bound_i = 0\n",
    "    for di in reversed(range(mask_disc.shape[0])):\n",
    "        if mask_disc[di, vertical_disc_diameter_idx] == 0:\n",
    "            mask_disc[di, vertical_disc_diameter_idx] = 150\n",
    "            disc_bound_i += 1\n",
    "        elif mask_disc[di, vertical_disc_diameter_idx] == 255:\n",
    "            break\n",
    "    # print(disc_bound_i)\n",
    "\n",
    "    isnt_i = cup_bound_i - disc_bound_i\n",
    "\n",
    "    # ISNT_S\n",
    "    cup_bound_s = 0\n",
    "    for ci in range(mask_cup.shape[0]):\n",
    "        if mask_cup[ci, vertical_cup_diameter_idx] == 0:\n",
    "            mask_cup[ci, vertical_cup_diameter_idx] = 150\n",
    "            cup_bound_s += 1\n",
    "        elif mask_cup[ci, vertical_cup_diameter_idx] == 255:\n",
    "            break\n",
    "    # print(cup_bound_s)\n",
    "\n",
    "    disc_bound_s = 0\n",
    "    for di in range(mask_disc.shape[0]):\n",
    "        if mask_disc[di, vertical_disc_diameter_idx] == 0:\n",
    "            mask_disc[di, vertical_disc_diameter_idx] = 150\n",
    "            disc_bound_s += 1\n",
    "        elif mask_disc[di, vertical_disc_diameter_idx] == 255:\n",
    "            break\n",
    "    # print(disc_bound_s)\n",
    "\n",
    "    isnt_s = cup_bound_s - disc_bound_s\n",
    "\n",
    "    # ISNT_N\n",
    "    cup_bound_n = 0\n",
    "    for cj in reversed(range(mask_cup.shape[1])):\n",
    "        if mask_cup[horizontal_cup_diameter_idx, cj] == 0:\n",
    "            mask_cup[horizontal_cup_diameter_idx, cj] = 150\n",
    "            cup_bound_n += 1\n",
    "        elif mask_cup[horizontal_cup_diameter_idx, cj] == 255:\n",
    "            break\n",
    "    # print(cup_bound_n)\n",
    "\n",
    "    disc_bound_n = 0\n",
    "    for dj in reversed(range(mask_disc.shape[1])):\n",
    "        if mask_disc[horizontal_disc_diameter_idx, dj] == 0:\n",
    "            mask_disc[horizontal_disc_diameter_idx, dj] = 150\n",
    "            disc_bound_n += 1\n",
    "        elif mask_disc[horizontal_disc_diameter_idx, dj] == 255:\n",
    "            break\n",
    "    # print(disc_bound_n)\n",
    "\n",
    "    isnt_n = cup_bound_n - disc_bound_n\n",
    "\n",
    "    # ISNT_T\n",
    "    cup_bound_t = 0\n",
    "    for cj in range(mask_cup.shape[1]):\n",
    "        if mask_cup[horizontal_cup_diameter_idx, cj] == 0:\n",
    "            mask_cup[horizontal_cup_diameter_idx, cj] = 150\n",
    "            cup_bound_t += 1\n",
    "        elif mask_cup[horizontal_cup_diameter_idx, cj] == 255:\n",
    "            break\n",
    "    # print(cup_bound_t)\n",
    "\n",
    "    disc_bound_t = 0\n",
    "    for dj in range(mask_disc.shape[1]):\n",
    "        if mask_disc[horizontal_disc_diameter_idx, dj] == 0:\n",
    "            mask_disc[horizontal_disc_diameter_idx, dj] = 150\n",
    "            disc_bound_t += 1\n",
    "        elif mask_disc[horizontal_disc_diameter_idx, dj] == 255:\n",
    "            break\n",
    "    # print(disc_bound_t)\n",
    "\n",
    "    isnt_t = cup_bound_t - disc_bound_t\n",
    "\n",
    "    if eye == 'r':\n",
    "        isnt_n, isnt_t = swap(isnt_n, isnt_t)\n",
    "\n",
    "    pd_isnt = pd.DataFrame({'I': [isnt_i], 'S': [isnt_s], 'N': [isnt_n], 'T': [isnt_t]})\n",
    "\n",
    "    return pd_isnt.to_dict()\n",
    "\n",
    "\n",
    "\n",
    "\n",
    "\n",
    "mask_cup_ = mask_cup.copy()\n",
    "ISNT(mask_cup_)\n",
    "\n",
    "\n",
    "\n",
    "\n",
    "\n",
    "\n",
    "\n"
   ]
  },
  {
   "cell_type": "code",
   "execution_count": null,
   "metadata": {},
   "outputs": [],
   "source": []
  },
  {
   "cell_type": "code",
   "execution_count": null,
   "metadata": {},
   "outputs": [],
   "source": []
  },
  {
   "cell_type": "code",
   "execution_count": null,
   "metadata": {},
   "outputs": [],
   "source": []
  },
  {
   "cell_type": "code",
   "execution_count": null,
   "metadata": {},
   "outputs": [],
   "source": [
    "cup_bound_i = 0\n",
    "\n",
    "j = list(range(mask_cup.shape[0]))\n",
    "for q in j:\n",
    "    if mask_cup[q][374] == 0:\n",
    "        # cv2.circle(mask_cup, (q, 374), 0, (255, 255, 255), -1)\n",
    "        cup_bound_i += 1\n",
    "    elif mask_cup[q][374] == 255:\n",
    "        break\n",
    "\n",
    "# cup_bound_i = 0\n",
    "\n",
    "# j.reverse()\n",
    "# for q in j:\n",
    "#     if mask_cup[q][374] == 0:\n",
    "#         cv2.circle(mask_cup, (q, 374), 0, (255, 255, 255), 2)\n",
    "#         cup_bound_i += 1\n",
    "#     elif mask_cup[q][374] == 255:\n",
    "#         break\n",
    "\n",
    "cv2.imwrite('tmp_cup.png', mask_cup)\n"
   ]
  },
  {
   "cell_type": "code",
   "execution_count": null,
   "metadata": {},
   "outputs": [],
   "source": [
    "np.unique(mask_cup)"
   ]
  },
  {
   "cell_type": "code",
   "execution_count": null,
   "metadata": {},
   "outputs": [],
   "source": []
  }
 ],
 "metadata": {
  "kernelspec": {
   "display_name": "lwnet",
   "language": "python",
   "name": "python3"
  },
  "language_info": {
   "codemirror_mode": {
    "name": "ipython",
    "version": 3
   },
   "file_extension": ".py",
   "mimetype": "text/x-python",
   "name": "python",
   "nbconvert_exporter": "python",
   "pygments_lexer": "ipython3",
   "version": "3.8.19"
  }
 },
 "nbformat": 4,
 "nbformat_minor": 2
}
